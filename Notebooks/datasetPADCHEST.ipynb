{
 "cells": [
  {
   "cell_type": "markdown",
   "metadata": {},
   "source": [
    "# Generate dataset"
   ]
  },
  {
   "cell_type": "markdown",
   "metadata": {},
   "source": [
    "[![Open In Colab](https://colab.research.google.com/assets/colab-badge.svg)](https://colab.research.google.com/github/BIMCV-CSUSP/BIMCV-COVID-19/blob/master/padchest-covid/datasets.ipynb)\n",
    "<p style=\"text-align: center;\">WIP</p>"
   ]
  },
  {
   "cell_type": "markdown",
   "metadata": {},
   "source": [
    "This code is intended to generate a subset of the [padchest dataset](http://bimcv.cipf.es/bimcv-projects/padchest/) to train a model for detecting Coronavirus 2019 (COVID-19) in Chest Radiograph Images. The [PADCHEST_chest_x_ray_images_labels_160K_01.02.19.csv file](https://drive.google.com/file/d/1tBW4EB5DfHdRikHbUotjmGKO5Kos6tRC/view?usp=sharing)"
   ]
  },
  {
   "cell_type": "code",
   "execution_count": 1,
   "metadata": {
    "pycharm": {
     "is_executing": false
    }
   },
   "outputs": [],
   "source": [
    "import csv\n",
    "from IPython.display import HTML, display"
   ]
  },
  {
   "cell_type": "markdown",
   "metadata": {},
   "source": [
    "Load the padchest dataset tables"
   ]
  },
  {
   "cell_type": "code",
   "execution_count": 2,
   "metadata": {
    "pycharm": {
     "name": "#%%\n"
    }
   },
   "outputs": [
    {
     "data": {
      "text/html": [
       "<table><tr><th></th><th>ImageID</th><th>ImageDir</th><th>StudyDate_DICOM</th><th>StudyID</th><th>PatientID</th><th>PatientBirth</th><th>PatientSex_DICOM</th><th>ViewPosition_DICOM</th><th>Projection</th><th>MethodProjection</th><th>Pediatric</th><th>Modality_DICOM</th><th>Manufacturer_DICOM</th><th>PhotometricInterpretation_DICOM</th><th>PixelRepresentation_DICOM</th><th>PixelAspectRatio_DICOM</th><th>SpatialResolution_DICOM</th><th>BitsStored_DICOM</th><th>WindowCenter_DICOM</th><th>WindowWidth_DICOM</th><th>Rows_DICOM</th><th>Columns_DICOM</th><th>XRayTubeCurrent_DICOM</th><th>Exposure_DICOM</th><th>ExposureInuAs_DICOM</th><th>ExposureTime</th><th>RelativeXRayExposure_DICOM</th><th>ReportID</th><th>Report</th><th>MethodLabel</th><th>Labels</th><th>Localizations</th><th>LabelsLocalizationsBySentence</th><th>labelCUIS</th><th>LocalizationsCUIS</th></tr><tr><td>0</td><td>20536686640136348236148679891455886468_k6ga29.png</td><td>0</td><td>20140915</td><td>20536686640136348236148679891455886468</td><td>839860488694292331637988235681460987</td><td>1930.0</td><td>F</td><td>POSTEROANTERIOR</td><td>PA</td><td>Manual review of DICOM fields</td><td>No</td><td>CR</td><td>ImagingDynamicsCompanyLtd</td><td>MONOCHROME2</td><td>0</td><td>None</td><td>None</td><td>12</td><td>2092</td><td>2251</td><td>1728</td><td>1872</td><td>250</td><td>2</td><td>2500</td><td>10</td><td>-1.42</td><td>4765777</td><td> sin hallazg patolog edad pacient .</td><td>Physician</td><td>['normal']</td><td>[]</td><td>[['normal'], ['normal']]</td><td>[]</td><td>[]</td></tr><tr><td>1</td><td>135803415504923515076821959678074435083_fzis7d.png</td><td>0</td><td>20150914</td><td>135803415504923515076821959678074435083</td><td>313572750430997347502932654319389875966</td><td>1929.0</td><td>M</td><td>LATERAL</td><td>L</td><td>Manual review of DICOM fields</td><td>No</td><td>CR</td><td>ImagingDynamicsCompanyLtd</td><td>MONOCHROME2</td><td>0</td><td>None</td><td>None</td><td>12</td><td>2631</td><td>2065</td><td>3296</td><td>3236</td><td>400</td><td>10</td><td>10000</td><td>25</td><td>None</td><td>4991845</td><td> cambi pulmonar cronic sever . sign fibrosis bibasal . sutil infiltr pseudonodul milimetr vidri deslustr localiz bas . cifosis sever .</td><td>Physician</td><td>['pulmonary fibrosis', 'chronic changes', 'kyphosis', 'pseudonodule', 'ground glass pattern']</td><td>['loc basal', 'loc basal bilateral']</td><td>[['pulmonary fibrosis', 'loc basal bilateral'], ['chronic changes'], ['kyphosis'], ['pseudonodule', 'ground glass pattern', 'loc basal']]</td><td>['C0034069' 'C0742362' 'C2115817' 'C3544344']</td><td>['C1282378']</td></tr><tr><td>2</td><td>135803415504923515076821959678074435083_fzis7b.png</td><td>0</td><td>20150914</td><td>135803415504923515076821959678074435083</td><td>313572750430997347502932654319389875966</td><td>1929.0</td><td>M</td><td>POSTEROANTERIOR</td><td>PA</td><td>Manual review of DICOM fields</td><td>No</td><td>CR</td><td>ImagingDynamicsCompanyLtd</td><td>MONOCHROME2</td><td>0</td><td>None</td><td>None</td><td>12</td><td>2155</td><td>2880</td><td>3572</td><td>3732</td><td>320</td><td>3</td><td>3200</td><td>10</td><td>None</td><td>4991845</td><td> cambi pulmonar cronic sever . sign fibrosis bibasal . sutil infiltr pseudonodul milimetr vidri deslustr localiz bas . cifosis sever .</td><td>Physician</td><td>['pulmonary fibrosis', 'chronic changes', 'kyphosis', 'pseudonodule', 'ground glass pattern']</td><td>['loc basal', 'loc basal bilateral']</td><td>[['pulmonary fibrosis', 'loc basal bilateral'], ['chronic changes'], ['kyphosis'], ['pseudonodule', 'ground glass pattern', 'loc basal']]</td><td>['C0034069' 'C0742362' 'C2115817' 'C3544344']</td><td>['C1282378']</td></tr></table>"
      ],
      "text/plain": [
       "<IPython.core.display.HTML object>"
      ]
     },
     "metadata": {},
     "output_type": "display_data"
    }
   ],
   "source": [
    "with open(\"./PADCHEST_chest_x_ray_images_labels_160K_01.02.19.csv\") as f:\n",
    "    r = csv.DictReader(f)\n",
    "    data = [l for l in r]\n",
    "\n",
    "    \n",
    "headers = data[0].keys()    \n",
    "display(HTML(\n",
    "   '<table><tr><th>{}</th></tr><tr>{}</tr></table>'.format(\n",
    "       '</th><th>'.join(str(h) for h in headers),\n",
    "       '</tr><tr>'.join(\n",
    "           '<td>{}</td>'.format('</td><td>'.join(str(row[k]) for k in headers)) for row in data[:3])\n",
    "       )\n",
    "))\n"
   ]
  },
  {
   "cell_type": "markdown",
   "metadata": {},
   "source": [
    "Split the dataset in 5 groups depending if they have some keywords in their labels"
   ]
  },
  {
   "cell_type": "code",
   "execution_count": 3,
   "metadata": {},
   "outputs": [],
   "source": [
    "normals = [l for l in data if \"'normal'\" in l[\"Labels\"]]\n",
    "pneumonia = [l for l in data if \"pneumonia\" in l[\"Labels\"] and \"infiltrates\" not in l[\"Labels\"]]\n",
    "infiltrates = [l for l in data if \"infiltrates\" in l[\"Labels\"] and \"pneumonia\" not in l[\"Labels\"]]\n",
    "p_i = [l for l in data if \"infiltrates\" in l[\"Labels\"] and \"pneumonia\" in l[\"Labels\"]]\n",
    "not_pneumonia = [l for l in data if \"infiltrates\" not in l[\"Labels\"] if \"pneumonia\" not in l[\"Labels\"] and \"unchanged\" not in l[\"Labels\"]]"
   ]
  },
  {
   "cell_type": "markdown",
   "metadata": {},
   "source": [
    "And split them again in sex for detecting balancing issues"
   ]
  },
  {
   "cell_type": "code",
   "execution_count": 4,
   "metadata": {},
   "outputs": [],
   "source": [
    "normals_m = [l for l in normals if l[\"PatientSex_DICOM\"] == 'M']\n",
    "normals_f = [l for l in normals if l[\"PatientSex_DICOM\"] == 'F']"
   ]
  },
  {
   "cell_type": "code",
   "execution_count": 5,
   "metadata": {},
   "outputs": [],
   "source": [
    "pneumonia_m = [l for l in pneumonia if l[\"PatientSex_DICOM\"] == 'M']\n",
    "pneumonia_f = [l for l in pneumonia if l[\"PatientSex_DICOM\"] == 'F']"
   ]
  },
  {
   "cell_type": "code",
   "execution_count": 6,
   "metadata": {},
   "outputs": [],
   "source": [
    "not_pneumonia_m = [l for l in not_pneumonia if l[\"PatientSex_DICOM\"] == 'M']\n",
    "not_pneumonia_f = [l for l in not_pneumonia if l[\"PatientSex_DICOM\"] == 'F']"
   ]
  },
  {
   "cell_type": "code",
   "execution_count": 7,
   "metadata": {},
   "outputs": [],
   "source": [
    "infiltrates_m = [l for l in infiltrates if l[\"PatientSex_DICOM\"] == 'M']\n",
    "infiltrates_f = [l for l in infiltrates if l[\"PatientSex_DICOM\"] == 'F']\n"
   ]
  },
  {
   "cell_type": "code",
   "execution_count": 8,
   "metadata": {},
   "outputs": [],
   "source": [
    "p_i_m = [l for l in p_i if l[\"PatientSex_DICOM\"] == 'M']\n",
    "p_i_f = [l for l in p_i if l[\"PatientSex_DICOM\"] == 'F']\n"
   ]
  },
  {
   "cell_type": "code",
   "execution_count": 9,
   "metadata": {
    "scrolled": true
   },
   "outputs": [
    {
     "data": {
      "text/html": [
       "<table><tr><td></td><td>Masculine</td><td>Femenine</td><td>Total</td></tr><tr><td>Normals</td><td>21414</td><td>28917</td><td>50340</td></tr><tr><td>Pneumonia</td><td>3337</td><td>2584</td><td>5921</td></tr><tr><td>Infiltrates</td><td>2772</td><td>2064</td><td>4836</td></tr><tr><td>Pneumonia and infiltrates</td><td>1251</td><td>1002</td><td>2253</td></tr><tr><td>Not pneumonia nor infiltrates</td><td>65904</td><td>68600</td><td>134524</td></tr></table>"
      ],
      "text/plain": [
       "<IPython.core.display.HTML object>"
      ]
     },
     "metadata": {},
     "output_type": "display_data"
    }
   ],
   "source": [
    "values = [[\"\", \"Masculine\", \"Femenine\", \"Total\" ],\n",
    "          [\"Normals\", len(normals_m), len(normals_f), len(normals)],\n",
    "          [\"Pneumonia\", len(pneumonia_m), len(pneumonia_f), len(pneumonia)],\n",
    "          [\"Infiltrates\", len(infiltrates_m), len(infiltrates_f), len(infiltrates)],\n",
    "          [\"Pneumonia and infiltrates\", len(p_i_m), len(p_i_f), len(p_i)],\n",
    "          [\"Not pneumonia nor infiltrates\", len(not_pneumonia_m), len(not_pneumonia_f), len(not_pneumonia)]] \n",
    "display(HTML(\n",
    "   '<table><tr>{}</tr></table>'.format(\n",
    "       '</tr><tr>'.join(\n",
    "           '<td>{}</td>'.format('</td><td>'.join(str(_) for _ in row)) for row in values)\n",
    "       )\n",
    "))"
   ]
  },
  {
   "cell_type": "markdown",
   "metadata": {},
   "source": [
    "Store the generated subgroups in diferents files in case we need them"
   ]
  },
  {
   "cell_type": "code",
   "execution_count": 10,
   "metadata": {},
   "outputs": [],
   "source": [
    "datasets = [{\"filename\":\"neumo_normals_m.tsv\",\"data\":normals_m},{\"filename\":\"neumo_normals_f.tsv\",\"data\":normals_f},\n",
    "            {\"filename\":\"neumo_pneumonia_m.tsv\",\"data\":pneumonia_m},{\"filename\":\"neumo_pneumonia_f.tsv\",\"data\":pneumonia_f},\n",
    "            {\"filename\":\"neumo_infiltrates_m.tsv\",\"data\":pneumonia_m},{\"filename\":\"neumo_infiltrates_f.tsv\",\"data\":pneumonia_f},\n",
    "            {\"filename\":\"neumo_pneumonia_infiltrates_m.tsv\",\"data\":pneumonia_m},{\"filename\":\"neumo_pneumonia_infiltrates_f.tsv\",\"data\":pneumonia_f},\n",
    "            {\"filename\":\"neumo_not_pneumonia_m.tsv\",\"data\":not_pneumonia_m},{\"filename\":\"neumo_not_pneumonia_f.tsv\",\"data\":not_pneumonia_f}]\n",
    "\n",
    "header = [\"ImageID\",\"StudyDate_DICOM\",\"StudyID\",\"PatientID\",\"PatientBirth\",\"PatientSex_DICOM\",\"ViewPosition_DICOM\",\"Projection\",\"MethodProjection\",\"Pediatric\",\"Modality_DICOM\",\"Manufacturer_DICOM\",\"PhotometricInterpretation_DICOM\",\"PixelRepresentation_DICOM\",\"PixelAspectRatio_DICOM\",\"SpatialResolution_DICOM\",\"BitsStored_DICOM\",\"WindowCenter_DICOM\",\"WindowWidth_DICOM\",\"Rows_DICOM\",\"Columns_DICOM\",\"XRayTubeCurrent_DICOM\",\"Exposure_DICOM\",\"ExposureInuAs_DICOM\",\"ExposureTime\",\"RelativeXRayExposure_DICOM\",\"Labels\"]\n",
    "for d in datasets:\n",
    "    with open(d[\"filename\"], \"w\") as f:\n",
    "        w = csv.DictWriter(f, header, delimiter='\\t', extrasaction='ignore')\n",
    "        w.writeheader()\n",
    "        for l in d[\"data\"]:\n",
    "            w.writerow(l)"
   ]
  },
  {
   "cell_type": "markdown",
   "metadata": {},
   "source": [
    "Generate the dataset. As we have about 13k images with findings that can be caused by covid19, we fill the rest of the dataset with the same number of images from the normal group and other findings group in a 1:1 ratio."
   ]
  },
  {
   "cell_type": "code",
   "execution_count": 11,
   "metadata": {},
   "outputs": [],
   "source": [
    "header2 = header+['group']\n",
    "with open(\"neumo_dataset.tsv\", \"w\") as f:\n",
    "    w = csv.DictWriter(f, header2, delimiter='\\t', extrasaction='ignore')\n",
    "    w.writeheader()\n",
    "    for l in pneumonia:\n",
    "        w.writerow({**l,**{\"group\":'N'}})\n",
    "        \n",
    "    for l in infiltrates:\n",
    "        w.writerow({**l,**{\"group\":'I'}})\n",
    "        \n",
    "    for l in p_i:\n",
    "        w.writerow({**l,**{\"group\":'NI'}})\n",
    "        \n",
    "    for l in normals[:6505]:\n",
    "        w.writerow({**l,**{\"group\":'C'}})\n",
    "        \n",
    "    for l in not_pneumonia[:6505]:\n",
    "        w.writerow({**l,**{\"group\":'C'}})\n",
    "    "
   ]
  }
 ],
 "metadata": {
  "anaconda-cloud": {},
  "kernelspec": {
   "display_name": "Python 3",
   "language": "python",
   "name": "python3"
  },
  "language_info": {
   "codemirror_mode": {
    "name": "ipython",
    "version": 3
   },
   "file_extension": ".py",
   "mimetype": "text/x-python",
   "name": "python",
   "nbconvert_exporter": "python",
   "pygments_lexer": "ipython3",
   "version": "3.7.7"
  },
  "pycharm": {
   "stem_cell": {
    "cell_type": "raw",
    "metadata": {
     "collapsed": false
    },
    "source": []
   }
  }
 },
 "nbformat": 4,
 "nbformat_minor": 4
}
