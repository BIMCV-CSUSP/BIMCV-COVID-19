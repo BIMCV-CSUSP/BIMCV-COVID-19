{
 "cells": [
  {
   "cell_type": "code",
   "execution_count": 1,
   "metadata": {
    "collapsed": true
   },
   "outputs": [],
   "source": [
    "import os\n",
    "\n",
    "import pandas as pd\n",
    "import geopandas as gpd\n",
    "\n",
    "import numpy as np\n",
    "from geopy.geocoders import Nominatim # get location coordinates\n",
    "import folium\n",
    "from folium import plugins"
   ]
  },
  {
   "cell_type": "code",
   "execution_count": 2,
   "metadata": {
    "collapsed": true
   },
   "outputs": [],
   "source": [
    "wd = '/mnt/cabinaData/openmind/cv_maps' # ruta absoluta para evitar problemas por desplazamiento"
   ]
  },
  {
   "cell_type": "markdown",
   "metadata": {},
   "source": [
    "Importamos el csv como dataframe. "
   ]
  },
  {
   "cell_type": "code",
   "execution_count": 3,
   "metadata": {
    "collapsed": false
   },
   "outputs": [],
   "source": [
    "df = pd.read_csv(os.path.join(wd,\"data\",\"MAP_INFO_GENERAL_RESUMEN_DEP.csv\"), sep =';', dtype={'DEPARTAMENTO':str})"
   ]
  },
  {
   "cell_type": "code",
   "execution_count": 4,
   "metadata": {
    "collapsed": false
   },
   "outputs": [
    {
     "data": {
      "text/html": [
       "<div>\n",
       "<style scoped>\n",
       "    .dataframe tbody tr th:only-of-type {\n",
       "        vertical-align: middle;\n",
       "    }\n",
       "\n",
       "    .dataframe tbody tr th {\n",
       "        vertical-align: top;\n",
       "    }\n",
       "\n",
       "    .dataframe thead th {\n",
       "        text-align: right;\n",
       "    }\n",
       "</style>\n",
       "<table border=\"1\" class=\"dataframe\">\n",
       "  <thead>\n",
       "    <tr style=\"text-align: right;\">\n",
       "      <th></th>\n",
       "      <th>DEPARTAMENTO</th>\n",
       "      <th>n_CR</th>\n",
       "      <th>n_DX</th>\n",
       "      <th>n_CT</th>\n",
       "      <th>n_KO</th>\n",
       "    </tr>\n",
       "  </thead>\n",
       "  <tbody>\n",
       "    <tr>\n",
       "      <th>0</th>\n",
       "      <td>01</td>\n",
       "      <td>124.0</td>\n",
       "      <td>35.0</td>\n",
       "      <td>4.0</td>\n",
       "      <td>NaN</td>\n",
       "    </tr>\n",
       "    <tr>\n",
       "      <th>1</th>\n",
       "      <td>02</td>\n",
       "      <td>329.0</td>\n",
       "      <td>983.0</td>\n",
       "      <td>50.0</td>\n",
       "      <td>1.0</td>\n",
       "    </tr>\n",
       "    <tr>\n",
       "      <th>2</th>\n",
       "      <td>03</td>\n",
       "      <td>26.0</td>\n",
       "      <td>68.0</td>\n",
       "      <td>6.0</td>\n",
       "      <td>NaN</td>\n",
       "    </tr>\n",
       "    <tr>\n",
       "      <th>3</th>\n",
       "      <td>04</td>\n",
       "      <td>1.0</td>\n",
       "      <td>4.0</td>\n",
       "      <td>NaN</td>\n",
       "      <td>NaN</td>\n",
       "    </tr>\n",
       "    <tr>\n",
       "      <th>4</th>\n",
       "      <td>05</td>\n",
       "      <td>NaN</td>\n",
       "      <td>NaN</td>\n",
       "      <td>NaN</td>\n",
       "      <td>NaN</td>\n",
       "    </tr>\n",
       "  </tbody>\n",
       "</table>\n",
       "</div>"
      ],
      "text/plain": [
       "  DEPARTAMENTO   n_CR   n_DX  n_CT  n_KO\n",
       "0           01  124.0   35.0   4.0   NaN\n",
       "1           02  329.0  983.0  50.0   1.0\n",
       "2           03   26.0   68.0   6.0   NaN\n",
       "3           04    1.0    4.0   NaN   NaN\n",
       "4           05    NaN    NaN   NaN   NaN"
      ]
     },
     "execution_count": 4,
     "metadata": {},
     "output_type": "execute_result"
    }
   ],
   "source": [
    "df.head()"
   ]
  },
  {
   "cell_type": "markdown",
   "metadata": {},
   "source": [
    "Importamos el fichero GeoJSON como dataframe gracias a la libreria `geopandas`."
   ]
  },
  {
   "cell_type": "code",
   "execution_count": 5,
   "metadata": {
    "collapsed": true
   },
   "outputs": [],
   "source": [
    "limits = gpd.read_file(os.path.join(wd,\"data\",\"departamentos_salud_ogr.json\"))"
   ]
  },
  {
   "cell_type": "code",
   "execution_count": 6,
   "metadata": {
    "collapsed": false
   },
   "outputs": [
    {
     "data": {
      "text/html": [
       "<div>\n",
       "<style scoped>\n",
       "    .dataframe tbody tr th:only-of-type {\n",
       "        vertical-align: middle;\n",
       "    }\n",
       "\n",
       "    .dataframe tbody tr th {\n",
       "        vertical-align: top;\n",
       "    }\n",
       "\n",
       "    .dataframe thead th {\n",
       "        text-align: right;\n",
       "    }\n",
       "</style>\n",
       "<table border=\"1\" class=\"dataframe\">\n",
       "  <thead>\n",
       "    <tr style=\"text-align: right;\">\n",
       "      <th></th>\n",
       "      <th>DPTOCRC</th>\n",
       "      <th>NOMBRE</th>\n",
       "      <th>DPTO_KEY</th>\n",
       "      <th>geometry</th>\n",
       "    </tr>\n",
       "  </thead>\n",
       "  <tbody>\n",
       "    <tr>\n",
       "      <th>0</th>\n",
       "      <td>01</td>\n",
       "      <td>VINAROS</td>\n",
       "      <td>2005051712223793901</td>\n",
       "      <td>POLYGON ((-0.23753 40.69794, -0.23356 40.70855...</td>\n",
       "    </tr>\n",
       "    <tr>\n",
       "      <th>1</th>\n",
       "      <td>02</td>\n",
       "      <td>CASTELLON</td>\n",
       "      <td>2005051712223793902</td>\n",
       "      <td>MULTIPOLYGON (((0.14852 40.08646, 0.14820 40.0...</td>\n",
       "    </tr>\n",
       "    <tr>\n",
       "      <th>2</th>\n",
       "      <td>03</td>\n",
       "      <td>LA PLANA</td>\n",
       "      <td>2005051712223793903</td>\n",
       "      <td>POLYGON ((-0.30857 39.79699, -0.31603 39.79983...</td>\n",
       "    </tr>\n",
       "    <tr>\n",
       "      <th>3</th>\n",
       "      <td>04</td>\n",
       "      <td>SAGUNTO</td>\n",
       "      <td>2005051712223793904</td>\n",
       "      <td>POLYGON ((-0.25889 39.61493, -0.25969 39.61455...</td>\n",
       "    </tr>\n",
       "    <tr>\n",
       "      <th>4</th>\n",
       "      <td>05</td>\n",
       "      <td>VALENCIA - CLINICO</td>\n",
       "      <td>2005051712223793905</td>\n",
       "      <td>POLYGON ((-0.36789 39.60005, -0.36721 39.60501...</td>\n",
       "    </tr>\n",
       "  </tbody>\n",
       "</table>\n",
       "</div>"
      ],
      "text/plain": [
       "  DPTOCRC              NOMBRE             DPTO_KEY  \\\n",
       "0      01             VINAROS  2005051712223793901   \n",
       "1      02           CASTELLON  2005051712223793902   \n",
       "2      03            LA PLANA  2005051712223793903   \n",
       "3      04             SAGUNTO  2005051712223793904   \n",
       "4      05  VALENCIA - CLINICO  2005051712223793905   \n",
       "\n",
       "                                            geometry  \n",
       "0  POLYGON ((-0.23753 40.69794, -0.23356 40.70855...  \n",
       "1  MULTIPOLYGON (((0.14852 40.08646, 0.14820 40.0...  \n",
       "2  POLYGON ((-0.30857 39.79699, -0.31603 39.79983...  \n",
       "3  POLYGON ((-0.25889 39.61493, -0.25969 39.61455...  \n",
       "4  POLYGON ((-0.36789 39.60005, -0.36721 39.60501...  "
      ]
     },
     "execution_count": 6,
     "metadata": {},
     "output_type": "execute_result"
    }
   ],
   "source": [
    "limits.head()"
   ]
  },
  {
   "cell_type": "markdown",
   "metadata": {},
   "source": [
    "A los ID de Departamentos y zonas de nuestro csv sintetico con un solo digito les falta un 0 a la izquierda. Se lo anyadimos con apply."
   ]
  },
  {
   "cell_type": "code",
   "execution_count": 7,
   "metadata": {
    "collapsed": false
   },
   "outputs": [],
   "source": [
    "df['DPTOCRC'] = df['DEPARTAMENTO'].apply(lambda x: '0' + x if len(x) == 1 else x)"
   ]
  },
  {
   "cell_type": "code",
   "execution_count": 8,
   "metadata": {
    "collapsed": false
   },
   "outputs": [],
   "source": [
    "#df = df.drop([0]) # elimino la fila 0"
   ]
  },
  {
   "cell_type": "code",
   "execution_count": 9,
   "metadata": {
    "collapsed": false
   },
   "outputs": [
    {
     "data": {
      "text/html": [
       "<div>\n",
       "<style scoped>\n",
       "    .dataframe tbody tr th:only-of-type {\n",
       "        vertical-align: middle;\n",
       "    }\n",
       "\n",
       "    .dataframe tbody tr th {\n",
       "        vertical-align: top;\n",
       "    }\n",
       "\n",
       "    .dataframe thead th {\n",
       "        text-align: right;\n",
       "    }\n",
       "</style>\n",
       "<table border=\"1\" class=\"dataframe\">\n",
       "  <thead>\n",
       "    <tr style=\"text-align: right;\">\n",
       "      <th></th>\n",
       "      <th>DEPARTAMENTO</th>\n",
       "      <th>n_CR</th>\n",
       "      <th>n_DX</th>\n",
       "      <th>n_CT</th>\n",
       "      <th>n_KO</th>\n",
       "      <th>DPTOCRC</th>\n",
       "    </tr>\n",
       "  </thead>\n",
       "  <tbody>\n",
       "    <tr>\n",
       "      <th>0</th>\n",
       "      <td>01</td>\n",
       "      <td>124.0</td>\n",
       "      <td>35.0</td>\n",
       "      <td>4.0</td>\n",
       "      <td>NaN</td>\n",
       "      <td>01</td>\n",
       "    </tr>\n",
       "    <tr>\n",
       "      <th>1</th>\n",
       "      <td>02</td>\n",
       "      <td>329.0</td>\n",
       "      <td>983.0</td>\n",
       "      <td>50.0</td>\n",
       "      <td>1.0</td>\n",
       "      <td>02</td>\n",
       "    </tr>\n",
       "    <tr>\n",
       "      <th>2</th>\n",
       "      <td>03</td>\n",
       "      <td>26.0</td>\n",
       "      <td>68.0</td>\n",
       "      <td>6.0</td>\n",
       "      <td>NaN</td>\n",
       "      <td>03</td>\n",
       "    </tr>\n",
       "    <tr>\n",
       "      <th>3</th>\n",
       "      <td>04</td>\n",
       "      <td>1.0</td>\n",
       "      <td>4.0</td>\n",
       "      <td>NaN</td>\n",
       "      <td>NaN</td>\n",
       "      <td>04</td>\n",
       "    </tr>\n",
       "    <tr>\n",
       "      <th>4</th>\n",
       "      <td>05</td>\n",
       "      <td>NaN</td>\n",
       "      <td>NaN</td>\n",
       "      <td>NaN</td>\n",
       "      <td>NaN</td>\n",
       "      <td>05</td>\n",
       "    </tr>\n",
       "  </tbody>\n",
       "</table>\n",
       "</div>"
      ],
      "text/plain": [
       "  DEPARTAMENTO   n_CR   n_DX  n_CT  n_KO DPTOCRC\n",
       "0           01  124.0   35.0   4.0   NaN      01\n",
       "1           02  329.0  983.0  50.0   1.0      02\n",
       "2           03   26.0   68.0   6.0   NaN      03\n",
       "3           04    1.0    4.0   NaN   NaN      04\n",
       "4           05    NaN    NaN   NaN   NaN      05"
      ]
     },
     "execution_count": 9,
     "metadata": {},
     "output_type": "execute_result"
    }
   ],
   "source": [
    "df.head()"
   ]
  },
  {
   "cell_type": "markdown",
   "metadata": {},
   "source": [
    "Unimos los dos dataframes usando el codigo de cuatro digitos de la zona como clave primaria"
   ]
  },
  {
   "cell_type": "code",
   "execution_count": 10,
   "metadata": {
    "collapsed": false
   },
   "outputs": [],
   "source": [
    "limits = limits.merge(df, how='inner', on='DPTOCRC')\n",
    "#limits = df"
   ]
  },
  {
   "cell_type": "code",
   "execution_count": 11,
   "metadata": {
    "collapsed": false
   },
   "outputs": [
    {
     "data": {
      "text/html": [
       "<div>\n",
       "<style scoped>\n",
       "    .dataframe tbody tr th:only-of-type {\n",
       "        vertical-align: middle;\n",
       "    }\n",
       "\n",
       "    .dataframe tbody tr th {\n",
       "        vertical-align: top;\n",
       "    }\n",
       "\n",
       "    .dataframe thead th {\n",
       "        text-align: right;\n",
       "    }\n",
       "</style>\n",
       "<table border=\"1\" class=\"dataframe\">\n",
       "  <thead>\n",
       "    <tr style=\"text-align: right;\">\n",
       "      <th></th>\n",
       "      <th>DPTOCRC</th>\n",
       "      <th>NOMBRE</th>\n",
       "      <th>DPTO_KEY</th>\n",
       "      <th>geometry</th>\n",
       "      <th>DEPARTAMENTO</th>\n",
       "      <th>n_CR</th>\n",
       "      <th>n_DX</th>\n",
       "      <th>n_CT</th>\n",
       "      <th>n_KO</th>\n",
       "    </tr>\n",
       "  </thead>\n",
       "  <tbody>\n",
       "    <tr>\n",
       "      <th>0</th>\n",
       "      <td>01</td>\n",
       "      <td>VINAROS</td>\n",
       "      <td>2005051712223793901</td>\n",
       "      <td>POLYGON ((-0.23753 40.69794, -0.23356 40.70855...</td>\n",
       "      <td>01</td>\n",
       "      <td>124.0</td>\n",
       "      <td>35.0</td>\n",
       "      <td>4.0</td>\n",
       "      <td>NaN</td>\n",
       "    </tr>\n",
       "    <tr>\n",
       "      <th>1</th>\n",
       "      <td>02</td>\n",
       "      <td>CASTELLON</td>\n",
       "      <td>2005051712223793902</td>\n",
       "      <td>MULTIPOLYGON (((0.14852 40.08646, 0.14820 40.0...</td>\n",
       "      <td>02</td>\n",
       "      <td>329.0</td>\n",
       "      <td>983.0</td>\n",
       "      <td>50.0</td>\n",
       "      <td>1.0</td>\n",
       "    </tr>\n",
       "    <tr>\n",
       "      <th>2</th>\n",
       "      <td>03</td>\n",
       "      <td>LA PLANA</td>\n",
       "      <td>2005051712223793903</td>\n",
       "      <td>POLYGON ((-0.30857 39.79699, -0.31603 39.79983...</td>\n",
       "      <td>03</td>\n",
       "      <td>26.0</td>\n",
       "      <td>68.0</td>\n",
       "      <td>6.0</td>\n",
       "      <td>NaN</td>\n",
       "    </tr>\n",
       "    <tr>\n",
       "      <th>3</th>\n",
       "      <td>04</td>\n",
       "      <td>SAGUNTO</td>\n",
       "      <td>2005051712223793904</td>\n",
       "      <td>POLYGON ((-0.25889 39.61493, -0.25969 39.61455...</td>\n",
       "      <td>04</td>\n",
       "      <td>1.0</td>\n",
       "      <td>4.0</td>\n",
       "      <td>NaN</td>\n",
       "      <td>NaN</td>\n",
       "    </tr>\n",
       "    <tr>\n",
       "      <th>4</th>\n",
       "      <td>05</td>\n",
       "      <td>VALENCIA - CLINICO</td>\n",
       "      <td>2005051712223793905</td>\n",
       "      <td>POLYGON ((-0.36789 39.60005, -0.36721 39.60501...</td>\n",
       "      <td>05</td>\n",
       "      <td>NaN</td>\n",
       "      <td>NaN</td>\n",
       "      <td>NaN</td>\n",
       "      <td>NaN</td>\n",
       "    </tr>\n",
       "  </tbody>\n",
       "</table>\n",
       "</div>"
      ],
      "text/plain": [
       "  DPTOCRC              NOMBRE             DPTO_KEY  \\\n",
       "0      01             VINAROS  2005051712223793901   \n",
       "1      02           CASTELLON  2005051712223793902   \n",
       "2      03            LA PLANA  2005051712223793903   \n",
       "3      04             SAGUNTO  2005051712223793904   \n",
       "4      05  VALENCIA - CLINICO  2005051712223793905   \n",
       "\n",
       "                                            geometry DEPARTAMENTO   n_CR  \\\n",
       "0  POLYGON ((-0.23753 40.69794, -0.23356 40.70855...           01  124.0   \n",
       "1  MULTIPOLYGON (((0.14852 40.08646, 0.14820 40.0...           02  329.0   \n",
       "2  POLYGON ((-0.30857 39.79699, -0.31603 39.79983...           03   26.0   \n",
       "3  POLYGON ((-0.25889 39.61493, -0.25969 39.61455...           04    1.0   \n",
       "4  POLYGON ((-0.36789 39.60005, -0.36721 39.60501...           05    NaN   \n",
       "\n",
       "    n_DX  n_CT  n_KO  \n",
       "0   35.0   4.0   NaN  \n",
       "1  983.0  50.0   1.0  \n",
       "2   68.0   6.0   NaN  \n",
       "3    4.0   NaN   NaN  \n",
       "4    NaN   NaN   NaN  "
      ]
     },
     "execution_count": 11,
     "metadata": {},
     "output_type": "execute_result"
    }
   ],
   "source": [
    "limits.head()"
   ]
  },
  {
   "cell_type": "markdown",
   "metadata": {},
   "source": [
    "Podemos obtener las coordenadas de un punto central de la comunidad valenciana usando el geolocalizador `Nominatim`, de libre uso, contenido en la librería `Geopy`."
   ]
  },
  {
   "cell_type": "code",
   "execution_count": 12,
   "metadata": {
    "collapsed": false
   },
   "outputs": [
    {
     "name": "stdout",
     "output_type": "stream",
     "text": [
      "The geographical coordinate of Comunitat Valenciana are 39.6819591, -0.7654406.\n"
     ]
    }
   ],
   "source": [
    "# Get geographical coordinate of CV\n",
    "address = 'Comunitat Valenciana'\n",
    "geolocator = Nominatim(user_agent=\"ceib\")\n",
    "\n",
    "location = geolocator.geocode(address)\n",
    "latitude = location.latitude\n",
    "longitude = location.longitude\n",
    "print('The geographical coordinate of Comunitat Valenciana are {}, {}.'.format(latitude, longitude))"
   ]
  },
  {
   "cell_type": "markdown",
   "metadata": {},
   "source": [
    "### Generacion del mapa"
   ]
  },
  {
   "cell_type": "markdown",
   "metadata": {},
   "source": [
    "En primero lugar, se genera el mapa centrado en las coordenadas indicadas y con un zoom inicial definido. Se indica que no anyada tiles inicialmente, asi podremos tener control de todo lo que se incluye en el mapa. Despues se le anyade la tile layer \"Light Map\" `CartoDB positron`, porque es de libre acceso y muy aseptica a nivel visual. Ademas, se incluye un plugin para poder visualizar el mapa a pantalla completa."
   ]
  },
  {
   "cell_type": "code",
   "execution_count": 14,
   "metadata": {
    "collapsed": false
   },
   "outputs": [
    {
     "data": {
      "text/plain": [
       "<folium.plugins.fullscreen.Fullscreen at 0x7fe96bd879e8>"
      ]
     },
     "execution_count": 14,
     "metadata": {},
     "output_type": "execute_result"
    }
   ],
   "source": [
    "# create a plain world map Mapbox Bright ,'CartoDB positron'\n",
    "m = folium.Map(location=[latitude, longitude], zoom_start=8, tiles=None)\n",
    "folium.TileLayer(tiles='OpenStreetMap',name=\"Light Map\",control=False).add_to(m)\n",
    "\n",
    "plugins.Fullscreen(\n",
    "    position='topright',\n",
    "    title='Expand me',\n",
    "    title_cancel='Exit me',\n",
    "    force_separate_button=True\n",
    ").add_to(m)"
   ]
  },
  {
   "cell_type": "markdown",
   "metadata": {},
   "source": [
    "Se anyade la capa del mapa coropletico, que se colorea en funcion de una determinada variable. Para cada campo se incluye una explicacion."
   ]
  },
  {
   "cell_type": "code",
   "execution_count": 15,
   "metadata": {
    "collapsed": false
   },
   "outputs": [
    {
     "data": {
      "text/plain": [
       "<folium.features.Choropleth at 0x7fe96bd87748>"
      ]
     },
     "execution_count": 15,
     "metadata": {},
     "output_type": "execute_result"
    }
   ],
   "source": [
    "folium.Choropleth(\n",
    " geo_data=limits, # Objeto en el cual estan incluidas las coordenadas\n",
    " name='Nº CR', # Nombre de la capa\n",
    " data=limits, # Objeto en el cual se encuentra la variable a representar. En este caso coincide que el objeto es el mismo\n",
    "              # para la variable y las coordenadas, aunque podia no ser el caso.\n",
    " columns=['DPTOCRC','n_CR'], # En primer lugar se indica la columna con la clave que relaciona\n",
    "                                    # En segundo, la variable a representar\n",
    " key_on=\"feature.properties.DPTOCRC\", # Localizacion del campo DEPTOCRC en el GeoJSON\n",
    " fill_color='YlGnBu', # Codigo de la paleta de colores\n",
    " fill_opacity=0.8, # Opacidad del relleno\n",
    " line_opacity=0.5, # Opacidad de los nombres\n",
    " legend_name='Numero de casos' # titulo de la leyenda\n",
    ").add_to(m)\n"
   ]
  },
  {
   "cell_type": "markdown",
   "metadata": {},
   "source": [
    "Se anyaden las style y highlight functions para resaltar una zona al pasar el raton por encima. Ademas, se incorporan cajas de texto que indican el valor de las variables que se quiera por zona senyalada. Por ultimo, se incorpora un control de capas para poder activar/desactivar los rellenos."
   ]
  },
  {
   "cell_type": "code",
   "execution_count": null,
   "metadata": {
    "collapsed": true
   },
   "outputs": [],
   "source": [
    "m.add_children(plugins.HeatMap(stationArr, radius=15))"
   ]
  },
  {
   "cell_type": "code",
   "execution_count": 21,
   "metadata": {
    "collapsed": false
   },
   "outputs": [
    {
     "data": {
      "text/plain": [
       "<folium.map.LayerControl at 0x7fe9647ccc88>"
      ]
     },
     "execution_count": 21,
     "metadata": {},
     "output_type": "execute_result"
    }
   ],
   "source": [
    "style_function = lambda x: {'fillColor': '#ffffff', \n",
    "                            'color':'#000000', \n",
    "                            'fillOpacity': 0.1, \n",
    "                            'weight': 0.1}\n",
    "highlight_function = lambda x: {'fillColor': '#000000', \n",
    "                                'color':'#000000', \n",
    "                                'fillOpacity': 0.50, \n",
    "                                'weight': 0.1}\n",
    "NIL = folium.features.GeoJson(\n",
    "    limits, # Dataframe con la variable a representar\n",
    "    style_function=style_function, \n",
    "    control=False,\n",
    "    highlight_function=highlight_function, \n",
    "    tooltip=folium.features.GeoJsonTooltip( # Caja de texto\n",
    "        fields=['DPTOCRC','NOMBRE','n_CR'], # Variables incluidas\n",
    "        aliases=['Dep. de salud: ','Nombre: ','Nº CR: '], # Texto que precede a las variables\n",
    "        style=(\"background-color: white; color: #333333; font-family: arial; font-size: 12px; padding: 10px;\") \n",
    "    )\n",
    ")\n",
    "m.add_child(NIL) # se anyade al mapa\n",
    "m.keep_in_front(NIL) # se lleva al frente para no quedar detras del mapa\n",
    "folium.map.LayerControl().add_to(m) # control de capas para poder ocultar el relleno"
   ]
  },
  {
   "cell_type": "code",
   "execution_count": 17,
   "metadata": {
    "collapsed": false
   },
   "outputs": [
    {
     "name": "stderr",
     "output_type": "stream",
     "text": [
      "iopub data rate exceeded.  The\n",
      "                    notebook server will temporarily stop sending iopub\n",
      "                    messages to the client in order to avoid crashing it.\n",
      "                    To change this limit, set the config variable\n",
      "                    `--NotebookApp.iopub_data_rate_limit`."
     ]
    }
   ],
   "source": [
    "m"
   ]
  },
  {
   "cell_type": "code",
   "execution_count": 68,
   "metadata": {
    "collapsed": false
   },
   "outputs": [],
   "source": [
    "m.save(os.path.join(wd,\"results\",\"Departamentos.html\"))"
   ]
  },
  {
   "cell_type": "code",
   "execution_count": 69,
   "metadata": {
    "collapsed": false
   },
   "outputs": [
    {
     "name": "stdout",
     "output_type": "stream",
     "text": [
      "/mnt/cabinaData/openmind/cv_maps\r\n"
     ]
    }
   ],
   "source": [
    "! pwd"
   ]
  },
  {
   "cell_type": "code",
   "execution_count": null,
   "metadata": {
    "collapsed": true
   },
   "outputs": [],
   "source": []
  }
 ],
 "metadata": {
  "kernelspec": {
   "display_name": "Python3 (folium_maps)",
   "language": "python",
   "name": "folium_maps"
  },
  "language_info": {
   "codemirror_mode": {
    "name": "ipython",
    "version": 3
   },
   "file_extension": ".py",
   "mimetype": "text/x-python",
   "name": "python",
   "nbconvert_exporter": "python",
   "pygments_lexer": "ipython3",
   "version": "3.6.2"
  }
 },
 "nbformat": 4,
 "nbformat_minor": 1
}
